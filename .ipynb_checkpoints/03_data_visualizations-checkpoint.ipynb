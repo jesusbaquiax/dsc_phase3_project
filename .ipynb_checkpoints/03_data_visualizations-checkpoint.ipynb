{
 "cells": [
  {
   "cell_type": "code",
   "execution_count": 1,
   "metadata": {},
   "outputs": [],
   "source": [
    "import pandas as pd\n",
    "import numpy as np\n",
    "import matplotlib.pyplot as plt\n",
    "%matplotlib inline\n",
    "import seaborn as sns\n",
    "import matplotlib.dates as mdates\n",
    "import matplotlib.cbook as cbook"
   ]
  },
  {
   "cell_type": "code",
   "execution_count": 2,
   "metadata": {},
   "outputs": [
    {
     "data": {
      "text/html": [
       "<div>\n",
       "<style scoped>\n",
       "    .dataframe tbody tr th:only-of-type {\n",
       "        vertical-align: middle;\n",
       "    }\n",
       "\n",
       "    .dataframe tbody tr th {\n",
       "        vertical-align: top;\n",
       "    }\n",
       "\n",
       "    .dataframe thead th {\n",
       "        text-align: right;\n",
       "    }\n",
       "</style>\n",
       "<table border=\"1\" class=\"dataframe\">\n",
       "  <thead>\n",
       "    <tr style=\"text-align: right;\">\n",
       "      <th></th>\n",
       "      <th>subject_age_group</th>\n",
       "      <th>stop_resolution</th>\n",
       "      <th>weapon_type</th>\n",
       "      <th>officer_id</th>\n",
       "      <th>officer_age</th>\n",
       "      <th>officer_gender</th>\n",
       "      <th>officer_race</th>\n",
       "      <th>subject_perceived_race</th>\n",
       "      <th>subject_perceived_gender</th>\n",
       "      <th>reported_date</th>\n",
       "      <th>...</th>\n",
       "      <th>final_call_type</th>\n",
       "      <th>call_type</th>\n",
       "      <th>officer_squad</th>\n",
       "      <th>arrest_flag</th>\n",
       "      <th>frisk_flag</th>\n",
       "      <th>precinct</th>\n",
       "      <th>sector</th>\n",
       "      <th>beat</th>\n",
       "      <th>year</th>\n",
       "      <th>month</th>\n",
       "    </tr>\n",
       "  </thead>\n",
       "  <tbody>\n",
       "    <tr>\n",
       "      <th>0</th>\n",
       "      <td>Not Specified</td>\n",
       "      <td>Arrest</td>\n",
       "      <td>None</td>\n",
       "      <td>7500</td>\n",
       "      <td>37</td>\n",
       "      <td>M</td>\n",
       "      <td>Black or African American</td>\n",
       "      <td>Asian</td>\n",
       "      <td>Male</td>\n",
       "      <td>2015-10-16</td>\n",
       "      <td>...</td>\n",
       "      <td>NaN</td>\n",
       "      <td>NaN</td>\n",
       "      <td>SOUTH PCT 1ST W - ROBERT</td>\n",
       "      <td>0</td>\n",
       "      <td>0.0</td>\n",
       "      <td>South</td>\n",
       "      <td>O</td>\n",
       "      <td>O2</td>\n",
       "      <td>2015</td>\n",
       "      <td>10</td>\n",
       "    </tr>\n",
       "    <tr>\n",
       "      <th>1</th>\n",
       "      <td>Not Specified</td>\n",
       "      <td>Field Contact</td>\n",
       "      <td>None</td>\n",
       "      <td>5670</td>\n",
       "      <td>56</td>\n",
       "      <td>M</td>\n",
       "      <td>White</td>\n",
       "      <td>Unknown</td>\n",
       "      <td>Unknown</td>\n",
       "      <td>2015-03-19</td>\n",
       "      <td>...</td>\n",
       "      <td>NaN</td>\n",
       "      <td>NaN</td>\n",
       "      <td>NaN</td>\n",
       "      <td>0</td>\n",
       "      <td>0.0</td>\n",
       "      <td>NaN</td>\n",
       "      <td>NaN</td>\n",
       "      <td>NaN</td>\n",
       "      <td>2015</td>\n",
       "      <td>3</td>\n",
       "    </tr>\n",
       "    <tr>\n",
       "      <th>2</th>\n",
       "      <td>Not Specified</td>\n",
       "      <td>Field Contact</td>\n",
       "      <td>None</td>\n",
       "      <td>7539</td>\n",
       "      <td>58</td>\n",
       "      <td>M</td>\n",
       "      <td>White</td>\n",
       "      <td>Unknown</td>\n",
       "      <td>Unknown</td>\n",
       "      <td>2015-04-01</td>\n",
       "      <td>...</td>\n",
       "      <td>NaN</td>\n",
       "      <td>NaN</td>\n",
       "      <td>NaN</td>\n",
       "      <td>0</td>\n",
       "      <td>0.0</td>\n",
       "      <td>NaN</td>\n",
       "      <td>NaN</td>\n",
       "      <td>NaN</td>\n",
       "      <td>2015</td>\n",
       "      <td>4</td>\n",
       "    </tr>\n",
       "    <tr>\n",
       "      <th>3</th>\n",
       "      <td>Not Specified</td>\n",
       "      <td>Field Contact</td>\n",
       "      <td>None</td>\n",
       "      <td>6973</td>\n",
       "      <td>44</td>\n",
       "      <td>M</td>\n",
       "      <td>White</td>\n",
       "      <td>Black or African American</td>\n",
       "      <td>Male</td>\n",
       "      <td>2015-04-03</td>\n",
       "      <td>...</td>\n",
       "      <td>NaN</td>\n",
       "      <td>NaN</td>\n",
       "      <td>NaN</td>\n",
       "      <td>0</td>\n",
       "      <td>0.0</td>\n",
       "      <td>NaN</td>\n",
       "      <td>NaN</td>\n",
       "      <td>NaN</td>\n",
       "      <td>2015</td>\n",
       "      <td>4</td>\n",
       "    </tr>\n",
       "    <tr>\n",
       "      <th>4</th>\n",
       "      <td>Not Specified</td>\n",
       "      <td>Field Contact</td>\n",
       "      <td>None</td>\n",
       "      <td>7402</td>\n",
       "      <td>48</td>\n",
       "      <td>M</td>\n",
       "      <td>White</td>\n",
       "      <td>Black or African American</td>\n",
       "      <td>Male</td>\n",
       "      <td>2015-04-05</td>\n",
       "      <td>...</td>\n",
       "      <td>NaN</td>\n",
       "      <td>NaN</td>\n",
       "      <td>NaN</td>\n",
       "      <td>0</td>\n",
       "      <td>0.0</td>\n",
       "      <td>NaN</td>\n",
       "      <td>NaN</td>\n",
       "      <td>NaN</td>\n",
       "      <td>2015</td>\n",
       "      <td>4</td>\n",
       "    </tr>\n",
       "  </tbody>\n",
       "</table>\n",
       "<p>5 rows × 21 columns</p>\n",
       "</div>"
      ],
      "text/plain": [
       "  subject_age_group stop_resolution weapon_type  officer_id  officer_age  \\\n",
       "0     Not Specified          Arrest        None        7500           37   \n",
       "1     Not Specified   Field Contact        None        5670           56   \n",
       "2     Not Specified   Field Contact        None        7539           58   \n",
       "3     Not Specified   Field Contact        None        6973           44   \n",
       "4     Not Specified   Field Contact        None        7402           48   \n",
       "\n",
       "  officer_gender               officer_race     subject_perceived_race  \\\n",
       "0              M  Black or African American                      Asian   \n",
       "1              M                      White                    Unknown   \n",
       "2              M                      White                    Unknown   \n",
       "3              M                      White  Black or African American   \n",
       "4              M                      White  Black or African American   \n",
       "\n",
       "  subject_perceived_gender reported_date  ... final_call_type call_type  \\\n",
       "0                     Male    2015-10-16  ...             NaN       NaN   \n",
       "1                  Unknown    2015-03-19  ...             NaN       NaN   \n",
       "2                  Unknown    2015-04-01  ...             NaN       NaN   \n",
       "3                     Male    2015-04-03  ...             NaN       NaN   \n",
       "4                     Male    2015-04-05  ...             NaN       NaN   \n",
       "\n",
       "              officer_squad arrest_flag  frisk_flag  precinct  sector    beat  \\\n",
       "0  SOUTH PCT 1ST W - ROBERT           0         0.0     South  O       O2       \n",
       "1                       NaN           0         0.0       NaN     NaN     NaN   \n",
       "2                       NaN           0         0.0       NaN     NaN     NaN   \n",
       "3                       NaN           0         0.0       NaN     NaN     NaN   \n",
       "4                       NaN           0         0.0       NaN     NaN     NaN   \n",
       "\n",
       "   year  month  \n",
       "0  2015     10  \n",
       "1  2015      3  \n",
       "2  2015      4  \n",
       "3  2015      4  \n",
       "4  2015      4  \n",
       "\n",
       "[5 rows x 21 columns]"
      ]
     },
     "execution_count": 2,
     "metadata": {},
     "output_type": "execute_result"
    }
   ],
   "source": [
    "df = pd.read_csv('Terry_stops_cleaned.csv')\n",
    "df.head()"
   ]
  },
  {
   "cell_type": "code",
   "execution_count": 3,
   "metadata": {},
   "outputs": [
    {
     "name": "stdout",
     "output_type": "stream",
     "text": [
      "<class 'pandas.core.frame.DataFrame'>\n",
      "RangeIndex: 47972 entries, 0 to 47971\n",
      "Data columns (total 21 columns):\n",
      " #   Column                    Non-Null Count  Dtype  \n",
      "---  ------                    --------------  -----  \n",
      " 0   subject_age_group         47972 non-null  object \n",
      " 1   stop_resolution           47972 non-null  object \n",
      " 2   weapon_type               47972 non-null  object \n",
      " 3   officer_id                47972 non-null  int64  \n",
      " 4   officer_age               47972 non-null  int64  \n",
      " 5   officer_gender            47972 non-null  object \n",
      " 6   officer_race              47972 non-null  object \n",
      " 7   subject_perceived_race    47972 non-null  object \n",
      " 8   subject_perceived_gender  47972 non-null  object \n",
      " 9   reported_date             47972 non-null  object \n",
      " 10  initial_call_type         34964 non-null  object \n",
      " 11  final_call_type           34964 non-null  object \n",
      " 12  call_type                 34964 non-null  object \n",
      " 13  officer_squad             47412 non-null  object \n",
      " 14  arrest_flag               47972 non-null  int64  \n",
      " 15  frisk_flag                47972 non-null  float64\n",
      " 16  precinct                  38187 non-null  object \n",
      " 17  sector                    37980 non-null  object \n",
      " 18  beat                      38046 non-null  object \n",
      " 19  year                      47972 non-null  int64  \n",
      " 20  month                     47972 non-null  int64  \n",
      "dtypes: float64(1), int64(5), object(15)\n",
      "memory usage: 7.7+ MB\n"
     ]
    }
   ],
   "source": [
    "df.info()"
   ]
  },
  {
   "cell_type": "code",
   "execution_count": 4,
   "metadata": {},
   "outputs": [],
   "source": [
    "# convert reported date column to datetime\n",
    "# df['reported_date'] = df['reported_date'].astype('datetime64[ns]')"
   ]
  },
  {
   "cell_type": "code",
   "execution_count": 12,
   "metadata": {},
   "outputs": [
    {
     "data": {
      "text/plain": [
       "array(['Asian', 'Unknown', 'Black or African American', 'Other', 'White',\n",
       "       'American Indian or Alaska Native', 'Hispanic', 'Multi-Racial',\n",
       "       'Native Hawaiian or Other Pacific Islander'], dtype=object)"
      ]
     },
     "execution_count": 12,
     "metadata": {},
     "output_type": "execute_result"
    }
   ],
   "source": [
    "df['subject_perceived_race'].unique()"
   ]
  },
  {
   "cell_type": "code",
   "execution_count": 11,
   "metadata": {},
   "outputs": [
    {
     "data": {
      "text/plain": [
       "array(['Black or African American', 'White', 'Unknown',\n",
       "       'American Indian or Alaska Native',\n",
       "       'Native Hawaiian or Other Pacific Islander', 'Asian'], dtype=object)"
      ]
     },
     "execution_count": 11,
     "metadata": {},
     "output_type": "execute_result"
    }
   ],
   "source": [
    "rslt_df['subject_perceived_race'].unique()"
   ]
  },
  {
   "cell_type": "code",
   "execution_count": 9,
   "metadata": {},
   "outputs": [
    {
     "data": {
      "text/plain": [
       "White                                        0.485998\n",
       "Black or African American                    0.336561\n",
       "Unknown                                      0.100759\n",
       "Asian                                        0.043182\n",
       "American Indian or Alaska Native             0.028527\n",
       "Native Hawaiian or Other Pacific Islander    0.004973\n",
       "Name: subject_perceived_race, dtype: float64"
      ]
     },
     "execution_count": 9,
     "metadata": {},
     "output_type": "execute_result"
    }
   ],
   "source": [
    "# looked at percentages of arrests by race\n",
    "arrest_race = df[['subject_perceived_race', 'arrest_flag']].copy()\n",
    "rslt_df = arrest_race[arrest_race['arrest_flag'] == 1] \n",
    "rslt_df['subject_perceived_race'].value_counts(normalize=True)"
   ]
  },
  {
   "cell_type": "code",
   "execution_count": 6,
   "metadata": {},
   "outputs": [],
   "source": [
    "# keep the races with great than 1% \n",
    "race_category = ['White',\n",
    "  'Black or African American',\n",
    "  'Hispanic',\n",
    "  'Asian',\n",
    "  'American Indian or Alaska Native',\n",
    "  'Multi-Racial']\n",
    "\n",
    "terry_stop_percent = [0.486, 0.336, 0.034, 0.032, 0.028, 0.016]\n",
    "\n",
    "census_percent = [0.645, 0.068, 0.066, 0.149, 0.005, 0.06]\n",
    "\n"
   ]
  },
  {
   "cell_type": "raw",
   "metadata": {},
   "source": []
  }
 ],
 "metadata": {
  "kernelspec": {
   "display_name": "Python (learn-env)",
   "language": "python",
   "name": "learn-env"
  },
  "language_info": {
   "codemirror_mode": {
    "name": "ipython",
    "version": 3
   },
   "file_extension": ".py",
   "mimetype": "text/x-python",
   "name": "python",
   "nbconvert_exporter": "python",
   "pygments_lexer": "ipython3",
   "version": "3.8.5"
  }
 },
 "nbformat": 4,
 "nbformat_minor": 4
}
